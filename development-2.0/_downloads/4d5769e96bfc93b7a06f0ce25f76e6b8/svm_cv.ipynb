{
  "cells": [
    {
      "cell_type": "code",
      "execution_count": null,
      "metadata": {
        "collapsed": false
      },
      "outputs": [],
      "source": [
        "%matplotlib inline"
      ]
    },
    {
      "cell_type": "markdown",
      "metadata": {},
      "source": [
        "\n# Support Vector Machine with Cross-Validation\n\nAn example of optimizing a simple support vector machine on the IRIS benchmark. We use the hyperparameter optimization \nfacade, which uses a random forest as its surrogate model. It is able to scale to higher evaluation budgets and a higher \nnumber of dimensions. Also, you can use mixed data types as well as conditional hyperparameters by nature.\n\nThe hyperparameter facade only supports a single fidelity approach. Therefore, only the configuration (not a budget like\niterations) is passed to the target algorithm.\n"
      ]
    },
    {
      "cell_type": "code",
      "execution_count": null,
      "metadata": {
        "collapsed": false
      },
      "outputs": [],
      "source": [
        "import numpy as np\nfrom ConfigSpace import Categorical, Configuration, ConfigurationSpace, Float, Integer\nfrom ConfigSpace.conditions import InCondition\nfrom sklearn import datasets, svm\nfrom sklearn.model_selection import cross_val_score\n\nfrom smac import HyperparameterFacade, Scenario\n\n__copyright__ = \"Copyright 2021, AutoML.org Freiburg-Hannover\"\n__license__ = \"3-clause BSD\"\n\n\n# We load the iris-dataset (a widely used benchmark)\niris = datasets.load_iris()\n\n\ndef target_algorithm(config: Configuration, seed: int = 0) -> float:\n    \"\"\"\n    Creates a SVM based on a configuration and evaluates it on the\n    iris-dataset using cross-validation.\n\n    Parameters:\n    -----------\n    config : Configuration\n        Configuration containing the hyperparameters.\n\n    Returns:\n    --------\n    A cross-validated mean score for the SVM on the loaded dataset.\n    \"\"\"\n    config_dict = config.get_dictionary()\n    if \"gamma\" in config:\n        config_dict[\"gamma\"] = config_dict[\"gamma_value\"] if config_dict[\"gamma\"] == \"value\" else \"auto\"\n        config_dict.pop(\"gamma_value\", None)\n\n    classifier = svm.SVC(**config_dict, random_state=seed)\n    scores = cross_val_score(classifier, iris.data, iris.target, cv=5)\n    cost = 1 - np.mean(scores)\n\n    return cost\n\n\nif __name__ == \"__main__\":\n    # Build Configuration Space which defines all parameters and their ranges\n    configspace = ConfigurationSpace()\n\n    # First we create our hyperparameters\n    kernel = Categorical(\"kernel\", [\"linear\", \"poly\", \"rbf\", \"sigmoid\"], default=\"poly\")\n    C = Float(\"C\", (0.001, 1000.0), default=1.0, log=True)\n    shrinking = Categorical(\"shrinking\", [True, False], default=True)\n    degree = Integer(\"degree\", (1, 5), default=3)\n    coef = Float(\"coef0\", (0.0, 10.0), default=0.0)\n    gamma = Categorical(\"gamma\", [\"auto\", \"value\"], default=\"auto\")\n    gamma_value = Float(\"gamma_value\", (0.0001, 8.0), default=1.0, log=True)\n\n    # Then we create dependencies\n    use_degree = InCondition(child=degree, parent=kernel, values=[\"poly\"])\n    use_coef = InCondition(child=coef, parent=kernel, values=[\"poly\", \"sigmoid\"])\n    use_gamma = InCondition(child=gamma, parent=kernel, values=[\"rbf\", \"poly\", \"sigmoid\"])\n    use_gamma_value = InCondition(child=gamma_value, parent=gamma, values=[\"value\"])\n\n    # Add hyperparameters and conditions to our configspace\n    configspace.add_hyperparameters([kernel, C, shrinking, degree, coef, gamma, gamma_value])\n    configspace.add_conditions([use_degree, use_coef, use_gamma, use_gamma_value])\n\n    # Next, we create an object, holding general information about the run\n    scenario = Scenario(\n        configspace,\n        n_trials=50,  # We want 50 target algorithm evaluations\n    )\n\n    # Example call of the target algorithm\n    default_value = target_algorithm(configspace.get_default_configuration())\n    print(f\"Default value: {round(default_value, 2)}\")\n\n    # Now we use SMAC to find the best hyperparameters\n    smac = HyperparameterFacade(\n        scenario,\n        target_algorithm,\n        overwrite=True,\n    )\n    incumbent = smac.optimize()\n\n    incumbent_value = target_algorithm(incumbent)\n    print(f\"Incumbent value: {round(incumbent_value, 2)}\")"
      ]
    }
  ],
  "metadata": {
    "kernelspec": {
      "display_name": "Python 3",
      "language": "python",
      "name": "python3"
    },
    "language_info": {
      "codemirror_mode": {
        "name": "ipython",
        "version": 3
      },
      "file_extension": ".py",
      "mimetype": "text/x-python",
      "name": "python",
      "nbconvert_exporter": "python",
      "pygments_lexer": "ipython3",
      "version": "3.10.6"
    }
  },
  "nbformat": 4,
  "nbformat_minor": 0
}