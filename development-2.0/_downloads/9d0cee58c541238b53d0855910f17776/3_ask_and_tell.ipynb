{
  "cells": [
    {
      "cell_type": "code",
      "execution_count": null,
      "metadata": {
        "collapsed": false
      },
      "outputs": [],
      "source": [
        "%matplotlib inline"
      ]
    },
    {
      "cell_type": "markdown",
      "metadata": {},
      "source": [
        "\n# Ask-and-Tell Interface\n\nThis examples show how to use the Ask-and-Tell interface.\n"
      ]
    },
    {
      "cell_type": "code",
      "execution_count": null,
      "metadata": {
        "collapsed": false
      },
      "outputs": [],
      "source": [
        "from ConfigSpace import Configuration, ConfigurationSpace, Float\n\nfrom smac import HyperparameterFacade, Scenario\nfrom smac.runhistory.dataclasses import TrialInfo, TrialValue\n\n__copyright__ = \"Copyright 2021, AutoML.org Freiburg-Hannover\"\n__license__ = \"3-clause BSD\"\n\n\nclass Rosenbrock2D:\n    @property\n    def configspace(self) -> ConfigurationSpace:\n        cs = ConfigurationSpace(seed=0)\n        x0 = Float(\"x0\", (-5, 10), default=-3)\n        x1 = Float(\"x1\", (-5, 10), default=-4)\n        cs.add_hyperparameters([x0, x1])\n\n        return cs\n\n    def train(self, config: Configuration, seed: int = 0) -> float:\n        \"\"\"The 2-dimensional Rosenbrock function as a toy model.\n        The Rosenbrock function is well know in the optimization community and\n        often serves as a toy problem. It can be defined for arbitrary\n        dimensions. The minimium is always at x_i = 1 with a function value of\n        zero. All input parameters are continuous. The search domain for\n        all x's is the interval [-5, 10].\n        \"\"\"\n        x1 = config[\"x0\"]\n        x2 = config[\"x1\"]\n\n        cost = 100.0 * (x2 - x1**2.0) ** 2.0 + (1 - x1) ** 2.0\n        return cost\n\n\nif __name__ == \"__main__\":\n    model = Rosenbrock2D()\n\n    # Scenario object\n    scenario = Scenario(\n        model.configspace,\n        deterministic=False,\n        n_trials=100,\n    )\n\n    # Example call of the target function\n    default_value = model.train(model.configspace.get_default_configuration())\n    print(f\"Default value: {round(default_value, 2)}\")\n\n    intensifier = HyperparameterFacade.get_intensifier(\n        scenario,\n        max_config_calls=1,  # We basically use one seed only\n    )\n\n    # Now we use SMAC to find the best hyperparameters\n    smac = HyperparameterFacade(\n        scenario,\n        model.train,\n        intensifier=intensifier,\n        overwrite=True,\n    )\n\n    # We can provide SMAC with custom configurations first\n    for config in model.configspace.sample_configuration(10):\n        for seed in smac.get_target_function_seeds():\n            cost = model.train(config, seed=seed)\n\n            trial_info = TrialInfo(config, seed=seed)\n            trial_value = TrialValue(cost=cost, time=0.5)\n\n            smac.tell(trial_info, trial_value)\n\n    # NOTE: Using only the tell method does not increase the number of submitted trials.\n    # Hence, the optimize method will process additional 100 trials.\n    smac.optimize()\n\n    # Now we retrieve the best configuration using our runhistory\n    incumbent = smac.runhistory.get_incumbent()\n\n    incumbent_value = model.train(incumbent)\n    print(f\"Incumbent value: {round(incumbent_value, 2)}\")"
      ]
    }
  ],
  "metadata": {
    "kernelspec": {
      "display_name": "Python 3",
      "language": "python",
      "name": "python3"
    },
    "language_info": {
      "codemirror_mode": {
        "name": "ipython",
        "version": 3
      },
      "file_extension": ".py",
      "mimetype": "text/x-python",
      "name": "python",
      "nbconvert_exporter": "python",
      "pygments_lexer": "ipython3",
      "version": "3.10.7"
    }
  },
  "nbformat": 4,
  "nbformat_minor": 0
}