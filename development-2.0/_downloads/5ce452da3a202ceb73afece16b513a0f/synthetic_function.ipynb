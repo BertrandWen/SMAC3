{
  "cells": [
    {
      "cell_type": "code",
      "execution_count": null,
      "metadata": {
        "collapsed": false
      },
      "outputs": [],
      "source": [
        "%matplotlib inline"
      ]
    },
    {
      "cell_type": "markdown",
      "metadata": {},
      "source": [
        "\n# Synthetic Function\n\nAn example of applying SMAC to optimize a synthetic function (2D Rosenbrock function).\n\nWe use the black-box facade because it is designed for black-box function optimization.\nThe black-box facade uses a :term:`Gaussian Process<GP>` as its surrogate model.\nThe facade works best on numerical hyperparameter configuration space and should not\nbe applied to problems with large evaluation budgets (up to 1000 evaluations).\n"
      ]
    },
    {
      "cell_type": "code",
      "execution_count": null,
      "metadata": {
        "collapsed": false
      },
      "outputs": [],
      "source": [
        "from ConfigSpace import Configuration, ConfigurationSpace, Float\n\nfrom smac import BlackBoxFacade, Scenario\n\n__copyright__ = \"Copyright 2021, AutoML.org Freiburg-Hannover\"\n__license__ = \"3-clause BSD\"\n\n\ndef rosenbrock_2d(x: Configuration) -> float:\n    \"\"\"The 2-dimensional Rosenbrock function as a toy model.\n    The Rosenbrock function is well know in the optimization community and\n    often serves as a toy problem. It can be defined for arbitrary\n    dimensions. The minimium is always at x_i = 1 with a function value of\n    zero. All input parameters are continuous. The search domain for\n    all x's is the interval [-5, 10].\n    \"\"\"\n    x1 = x[\"x0\"]\n    x2 = x[\"x1\"]\n\n    cost = 100.0 * (x2 - x1**2.0) ** 2.0 + (1 - x1) ** 2.0\n    return cost\n\n\nif __name__ == \"__main__\":\n    # Build configuration space which defines all parameters and their ranges\n    configspace = ConfigurationSpace()\n    x0 = Float(\"x0\", (-5, 10), default=-3)\n    x1 = Float(\"x1\", (-5, 10), default=-4)\n    configspace.add_hyperparameters([x0, x1])\n\n    # Scenario object\n    scenario = Scenario(configspace, n_trials=100)\n\n    # Example call of the target algorithm\n    default_value = rosenbrock_2d(configspace.get_default_configuration())\n    print(f\"Default value: {round(default_value, 2)}\")\n\n    # Now we use SMAC to find the best hyperparameters\n    smac = BlackBoxFacade(scenario, rosenbrock_2d)\n    incumbent = smac.optimize()\n\n    incumbent_value = rosenbrock_2d(incumbent)\n    print(f\"Incumbent value: {round(incumbent_value, 2)}\")"
      ]
    }
  ],
  "metadata": {
    "kernelspec": {
      "display_name": "Python 3",
      "language": "python",
      "name": "python3"
    },
    "language_info": {
      "codemirror_mode": {
        "name": "ipython",
        "version": 3
      },
      "file_extension": ".py",
      "mimetype": "text/x-python",
      "name": "python",
      "nbconvert_exporter": "python",
      "pygments_lexer": "ipython3",
      "version": "3.10.6"
    }
  },
  "nbformat": 4,
  "nbformat_minor": 0
}