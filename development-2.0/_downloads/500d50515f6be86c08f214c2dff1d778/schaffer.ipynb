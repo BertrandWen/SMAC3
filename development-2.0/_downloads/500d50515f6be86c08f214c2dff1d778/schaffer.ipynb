{
  "cells": [
    {
      "cell_type": "code",
      "execution_count": null,
      "metadata": {
        "collapsed": false
      },
      "outputs": [],
      "source": [
        "%matplotlib inline"
      ]
    },
    {
      "cell_type": "markdown",
      "metadata": {},
      "source": [
        "\n# 2D Schaffer Function\n\nA simple example on how to use multi-objective optimization is shown. The `schaffer` function is used.\n"
      ]
    },
    {
      "cell_type": "code",
      "execution_count": null,
      "metadata": {
        "collapsed": false
      },
      "outputs": [],
      "source": [
        "from __future__ import annotations\n\nfrom typing import Dict, Tuple\n\nimport numpy as np\nfrom ConfigSpace import Configuration, ConfigurationSpace, Float\nfrom matplotlib import pyplot as plt\n\nfrom smac import HyperparameterFacade, Scenario\nfrom smac.facade import Facade\nfrom smac.multi_objective.aggregation_strategy import MeanAggregationStrategy\n\n__copyright__ = \"Copyright 2021, AutoML.org Freiburg-Hannover\"\n__license__ = \"3-clause BSD\"\n\n\ndef schaffer(x: float) -> Tuple[float, float]:\n    f1 = np.square(x)\n    f2 = np.square(np.sqrt(f1) - 2)\n\n    return f1, f2\n\n\ndef target_algorithm(config: Configuration) -> Dict[str, float]:\n    f1, f2 = schaffer(config[\"x\"])\n    return {\"metric1\": f1, \"metric2\": f2}\n\n\ndef plot(all_x: list[float]) -> None:\n    plt.figure()\n    for x in all_x:\n        f1, f2 = schaffer(x)\n        plt.scatter(f1, f2, c=\"blue\", alpha=0.1, zorder=3000)\n\n    plt.vlines([1], 0, 4, linestyles=\"dashed\", colors=[\"red\"])\n    plt.hlines([1], 0, 4, linestyles=\"dashed\", colors=[\"red\"])\n\n    plt.show()\n\n\ndef plot_from_smac(smac: Facade) -> None:\n    rh = smac.runhistory\n    all_x = []\n    for runkey in rh.data.keys():\n        config = rh.ids_config[runkey.config_id]\n        all_x.append(config[\"x\"])\n\n    plot(all_x)\n\n\nif __name__ == \"__main__\":\n    # Simple configspace\n    cs = ConfigurationSpace({\"x\": (-2.0, 2.0)})\n\n    # Scenario object\n    scenario = Scenario(\n        configspace=cs,\n        n_trials=150,\n        objectives=[\"metric1\", \"metric2\"],\n    )\n\n    smac = HyperparameterFacade(\n        scenario=scenario,\n        target_algorithm=target_algorithm,\n        multi_objective_algorithm=MeanAggregationStrategy(seed=scenario.seed),\n        overwrite=True,\n    )\n    incumbent = smac.optimize()\n\n    # Plot the evaluated points\n    plot_from_smac(smac)"
      ]
    }
  ],
  "metadata": {
    "kernelspec": {
      "display_name": "Python 3",
      "language": "python",
      "name": "python3"
    },
    "language_info": {
      "codemirror_mode": {
        "name": "ipython",
        "version": 3
      },
      "file_extension": ".py",
      "mimetype": "text/x-python",
      "name": "python",
      "nbconvert_exporter": "python",
      "pygments_lexer": "ipython3",
      "version": "3.10.6"
    }
  },
  "nbformat": 4,
  "nbformat_minor": 0
}