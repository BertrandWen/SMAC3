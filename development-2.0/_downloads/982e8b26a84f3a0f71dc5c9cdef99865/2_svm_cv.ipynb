{
  "cells": [
    {
      "cell_type": "code",
      "execution_count": null,
      "metadata": {
        "collapsed": false
      },
      "outputs": [],
      "source": [
        "%matplotlib inline"
      ]
    },
    {
      "cell_type": "markdown",
      "metadata": {},
      "source": [
        "\n# Support Vector Machine with Cross-Validation\n\nAn example of optimizing a simple support vector machine on the IRIS dataset. We use the\nhyperparameter optimization facade, which uses a random forest as its surrogate model. It is able to\nscale to higher evaluation budgets and a higher number of dimensions. Also, you can use mixed data\ntypes as well as conditional hyperparameters.\n"
      ]
    },
    {
      "cell_type": "code",
      "execution_count": null,
      "metadata": {
        "collapsed": false
      },
      "outputs": [],
      "source": [
        "import numpy as np\nfrom ConfigSpace import Categorical, Configuration, ConfigurationSpace, Float, Integer\nfrom ConfigSpace.conditions import InCondition\nfrom sklearn import datasets, svm\nfrom sklearn.model_selection import cross_val_score\n\nfrom smac import HyperparameterFacade, Scenario\nfrom smac.initial_design import SobolInitialDesign\n\n__copyright__ = \"Copyright 2021, AutoML.org Freiburg-Hannover\"\n__license__ = \"3-clause BSD\"\n\n\n# We load the iris-dataset (a widely used benchmark)\niris = datasets.load_iris()\n\n\nclass SVM:\n    @property\n    def configspace(self) -> ConfigurationSpace:\n        # Build Configuration Space which defines all parameters and their ranges\n        cs = ConfigurationSpace(seed=0)\n\n        # First we create our hyperparameters\n        kernel = Categorical(\"kernel\", [\"linear\", \"poly\", \"rbf\", \"sigmoid\"], default=\"poly\")\n        C = Float(\"C\", (0.001, 1000.0), default=1.0, log=True)\n        shrinking = Categorical(\"shrinking\", [True, False], default=True)\n        degree = Integer(\"degree\", (1, 5), default=3)\n        coef = Float(\"coef0\", (0.0, 10.0), default=0.0)\n        gamma = Categorical(\"gamma\", [\"auto\", \"value\"], default=\"auto\")\n        gamma_value = Float(\"gamma_value\", (0.0001, 8.0), default=1.0, log=True)\n\n        # Then we create dependencies\n        use_degree = InCondition(child=degree, parent=kernel, values=[\"poly\"])\n        use_coef = InCondition(child=coef, parent=kernel, values=[\"poly\", \"sigmoid\"])\n        use_gamma = InCondition(child=gamma, parent=kernel, values=[\"rbf\", \"poly\", \"sigmoid\"])\n        use_gamma_value = InCondition(child=gamma_value, parent=gamma, values=[\"value\"])\n\n        # Add hyperparameters and conditions to our configspace\n        cs.add_hyperparameters([kernel, C, shrinking, degree, coef, gamma, gamma_value])\n        cs.add_conditions([use_degree, use_coef, use_gamma, use_gamma_value])\n\n        return cs\n\n    def train(self, config: Configuration, seed: int = 0) -> float:\n        \"\"\"Creates a SVM based on a configuration and evaluates it on the\n        iris-dataset using cross-validation.\"\"\"\n        config_dict = config.get_dictionary()\n        if \"gamma\" in config:\n            config_dict[\"gamma\"] = config_dict[\"gamma_value\"] if config_dict[\"gamma\"] == \"value\" else \"auto\"\n            config_dict.pop(\"gamma_value\", None)\n\n        classifier = svm.SVC(**config_dict, random_state=seed)\n        scores = cross_val_score(classifier, iris.data, iris.target, cv=5)\n        cost = 1 - np.mean(scores)\n\n        return cost\n\n\nif __name__ == \"__main__\":\n    classifier = SVM()\n    configspace = classifier.configspace\n    default_config = configspace.get_default_configuration()\n\n    # Example call of the target algorithm\n    default_value = classifier.train(default_config)\n    print(f\"Default value: {round(default_value, 2)}\")\n\n    # Next, we create an object, holding general information about the run\n    scenario = Scenario(\n        configspace,\n        n_trials=100,  # We want to run max 50 trials (combination of config and seed)\n    )\n\n    # We want to run the facade's default initial design, but we want to alter the number\n    # of initial configs to be 5.\n    initial_design = HyperparameterFacade.get_initial_design(scenario, n_configs=10)\n\n    # You can also override the initial design completely, by providing another\n    # initial design class.\n    initial_design = SobolInitialDesign(scenario, n_configs=10)\n\n    # Now we use SMAC to find the best hyperparameters\n    smac = HyperparameterFacade(\n        scenario,\n        classifier.train,\n        initial_design=initial_design,\n        overwrite=False,  # If the run exists, we do not overwrite it but continue the run\n    )\n\n    incumbent = smac.optimize()\n    incumbent_value = classifier.train(incumbent)\n    print(f\"Incumbent value: {round(incumbent_value, 2)}\")"
      ]
    }
  ],
  "metadata": {
    "kernelspec": {
      "display_name": "Python 3",
      "language": "python",
      "name": "python3"
    },
    "language_info": {
      "codemirror_mode": {
        "name": "ipython",
        "version": 3
      },
      "file_extension": ".py",
      "mimetype": "text/x-python",
      "name": "python",
      "nbconvert_exporter": "python",
      "pygments_lexer": "ipython3",
      "version": "3.10.6"
    }
  },
  "nbformat": 4,
  "nbformat_minor": 0
}