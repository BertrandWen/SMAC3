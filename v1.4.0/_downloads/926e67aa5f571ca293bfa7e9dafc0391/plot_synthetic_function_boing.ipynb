{
  "cells": [
    {
      "cell_type": "code",
      "execution_count": null,
      "metadata": {
        "collapsed": false
      },
      "outputs": [],
      "source": [
        "%matplotlib inline"
      ]
    },
    {
      "cell_type": "markdown",
      "metadata": {},
      "source": [
        "\n# Synthetic Function with BOinG as optimizer\n\nAn example of applying SMAC with BO inside Grove (BOinG) to optimize a\nsynthetic function (2d rosenbrock function).\n\nBOinG optimizer requires a SMAC4BOING wrapper to optimize the target algorithm. It is a two stage BO algorithm.\nIn the first stage, BOinG constructs an RF to capture the global loss landscape. Then in the second stage, it only\noptimizes inside a subregion near the candidate suggested by the RF model with a GP model to focus only on the most\npromising region.\n"
      ]
    },
    {
      "cell_type": "code",
      "execution_count": null,
      "metadata": {
        "collapsed": false
      },
      "outputs": [],
      "source": [
        "import logging\n\nimport numpy as np\nfrom ConfigSpace import ConfigurationSpace\nfrom ConfigSpace.hyperparameters import UniformFloatHyperparameter\n\nfrom smac.facade.smac_boing_facade import SMAC4BOING\n\n# Import SMAC-utilities\nfrom smac.scenario.scenario import Scenario\n\n\ndef rosenbrock_2d(x):\n    \"\"\"The 2 dimensional Rosenbrock function as a toy model\n    The Rosenbrock function is well know in the optimization community and\n    often serves as a toy problem. It can be defined for arbitrary\n    dimensions. The minimium is always at x_i = 1 with a function value of\n    zero. All input parameters are continuous. The search domain for\n    all x's is the interval [-5, 10].\n    \"\"\"\n    x1 = x[\"x0\"]\n    x2 = x[\"x1\"]\n\n    val = 100.0 * (x2 - x1**2.0) ** 2.0 + (1 - x1) ** 2.0\n    return val\n\n\nif __name__ == \"__main__\":\n    logging.basicConfig(level=logging.INFO)  # logging.DEBUG for debug output\n\n    # Build Configuration Space which defines all parameters and their ranges\n    cs = ConfigurationSpace()\n    x0 = UniformFloatHyperparameter(\"x0\", -5, 10, default_value=-3)\n    x1 = UniformFloatHyperparameter(\"x1\", -5, 10, default_value=-4)\n    cs.add_hyperparameters([x0, x1])\n    # Scenario object\n    scenario = Scenario(\n        {\n            \"run_obj\": \"quality\",  # we optimize quality (alternatively runtime)\n            \"runcount-limit\": 20,\n            # max. number of function evaluations; for this example set to a low number\n            \"cs\": cs,  # configuration space\n            \"deterministic\": \"true\",\n        }\n    )\n\n    # Example call of the function\n    # It returns: Status, Cost, Runtime, Additional Infos\n    def_value = rosenbrock_2d(cs.get_default_configuration())\n    print(\"Default Value: %.2f\" % def_value)\n\n    # Optimize, using a SMAC-object\n    print(\"Optimizing! Depending on your machine, this might take a few minutes.\")\n\n    smac = SMAC4BOING(\n        scenario=scenario,\n        rng=np.random.RandomState(42),\n        tae_runner=rosenbrock_2d,\n    )\n\n    smac.optimize()"
      ]
    }
  ],
  "metadata": {
    "kernelspec": {
      "display_name": "Python 3",
      "language": "python",
      "name": "python3"
    },
    "language_info": {
      "codemirror_mode": {
        "name": "ipython",
        "version": 3
      },
      "file_extension": ".py",
      "mimetype": "text/x-python",
      "name": "python",
      "nbconvert_exporter": "python",
      "pygments_lexer": "ipython3",
      "version": "3.9.13"
    }
  },
  "nbformat": 4,
  "nbformat_minor": 0
}