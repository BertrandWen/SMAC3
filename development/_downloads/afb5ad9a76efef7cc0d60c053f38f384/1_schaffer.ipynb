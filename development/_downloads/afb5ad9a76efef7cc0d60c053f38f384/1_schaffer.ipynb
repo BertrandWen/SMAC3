{
  "cells": [
    {
      "cell_type": "code",
      "execution_count": null,
      "metadata": {
        "collapsed": false
      },
      "outputs": [],
      "source": [
        "%matplotlib inline"
      ]
    },
    {
      "cell_type": "markdown",
      "metadata": {},
      "source": [
        "\n# 2D Schaffer Function with Objective Weights\n\nA simple example on how to use multi-objective optimization is shown. The `schaffer` function is used.\n"
      ]
    },
    {
      "cell_type": "code",
      "execution_count": null,
      "metadata": {
        "collapsed": false
      },
      "outputs": [],
      "source": [
        "from __future__ import annotations\n\nfrom typing import Dict, Tuple\n\nimport numpy as np\nfrom ConfigSpace import Configuration, ConfigurationSpace\nfrom matplotlib import pyplot as plt\n\nfrom smac import HyperparameterOptimizationFacade as HPOFacade\nfrom smac import Scenario\nfrom smac.facade import AbstractFacade\n\n__copyright__ = \"Copyright 2021, AutoML.org Freiburg-Hannover\"\n__license__ = \"3-clause BSD\"\n\n\ndef schaffer(x: float) -> Tuple[float, float]:\n    f1 = np.square(x)\n    f2 = np.square(np.sqrt(f1) - 2)\n\n    return f1, f2\n\n\ndef target_function(config: Configuration, seed: int = 0) -> Dict[str, float]:\n    f1, f2 = schaffer(config[\"x\"])\n    return {\"metric1\": f1, \"metric2\": f2}\n\n\ndef plot(all_x: list[float]) -> None:\n    plt.figure()\n    for x in all_x:\n        f1, f2 = schaffer(x)\n        plt.scatter(f1, f2, c=\"blue\", alpha=0.1, zorder=3000)\n\n    # plt.vlines([1], 0, 4, linestyles=\"dashed\", colors=[\"red\"])\n    # plt.hlines([1], 0, 4, linestyles=\"dashed\", colors=[\"red\"])\n\n    plt.show()\n\n\ndef plot_from_smac(smac: AbstractFacade) -> None:\n    rh = smac.runhistory\n    all_x = []\n    for trial_key in rh:\n        config = rh.ids_config[trial_key.config_id]\n        all_x.append(config[\"x\"])\n\n    plot(all_x)\n\n\nif __name__ == \"__main__\":\n    # Simple configspace\n    cs = ConfigurationSpace({\"x\": (-2.0, 2.0)})\n\n    # Scenario object\n    scenario = Scenario(\n        configspace=cs,\n        deterministic=True,  # Only one seed\n        n_trials=150,\n        objectives=[\"metric1\", \"metric2\"],\n    )\n\n    smac = HPOFacade(\n        scenario=scenario,\n        target_function=target_function,\n        multi_objective_algorithm=HPOFacade.get_multi_objective_algorithm(\n            scenario,\n            objective_weights=[1, 2],  # Weight metric2 twice as much as metric1\n        ),\n        overwrite=True,\n    )\n    incumbent = smac.optimize()\n\n    default_cost = smac.validate(cs.get_default_configuration())\n    print(f\"Default costs: {default_cost}\")\n\n    incumbent_cost = smac.validate(incumbent)\n    print(f\"Incumbent costs: {incumbent_cost}\")\n\n    # Plot the evaluated points\n    plot_from_smac(smac)"
      ]
    }
  ],
  "metadata": {
    "kernelspec": {
      "display_name": "Python 3",
      "language": "python",
      "name": "python3"
    },
    "language_info": {
      "codemirror_mode": {
        "name": "ipython",
        "version": 3
      },
      "file_extension": ".py",
      "mimetype": "text/x-python",
      "name": "python",
      "nbconvert_exporter": "python",
      "pygments_lexer": "ipython3",
      "version": "3.10.8"
    }
  },
  "nbformat": 4,
  "nbformat_minor": 0
}