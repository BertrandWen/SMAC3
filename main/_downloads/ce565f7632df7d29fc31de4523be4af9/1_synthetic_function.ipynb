{
  "cells": [
    {
      "cell_type": "code",
      "execution_count": null,
      "metadata": {
        "collapsed": false
      },
      "outputs": [],
      "source": [
        "%matplotlib inline"
      ]
    },
    {
      "cell_type": "markdown",
      "metadata": {},
      "source": [
        "\n# Synthetic Function\n\nAn example of applying SMAC to optimize a synthetic function (2D Rosenbrock function).\n\nWe use the black-box facade because it is designed for black-box function optimization.\nThe black-box facade uses a :term:`Gaussian Process<GP>` as its surrogate model.\nThe facade works best on a numerical hyperparameter configuration space and should not\nbe applied to problems with large evaluation budgets (up to 1000 evaluations).\n"
      ]
    },
    {
      "cell_type": "code",
      "execution_count": null,
      "metadata": {
        "collapsed": false
      },
      "outputs": [],
      "source": [
        "from ConfigSpace import Configuration, ConfigurationSpace, Float\n\nfrom smac import BlackBoxFacade, Scenario\n\n__copyright__ = \"Copyright 2021, AutoML.org Freiburg-Hannover\"\n__license__ = \"3-clause BSD\"\n\n\nclass Rosenbrock2D:\n    @property\n    def configspace(self) -> ConfigurationSpace:\n        cs = ConfigurationSpace(seed=0)\n        x0 = Float(\"x0\", (-5, 10), default=-3)\n        x1 = Float(\"x1\", (-5, 10), default=-4)\n        cs.add_hyperparameters([x0, x1])\n\n        return cs\n\n    def train(self, config: Configuration, seed: int = 0) -> float:\n        \"\"\"The 2-dimensional Rosenbrock function as a toy model.\n        The Rosenbrock function is well-known in the optimization community and\n        often serves as a toy problem. It can be defined for arbitrary\n        dimensions. The minimum is always at x_i = 1 with a function value of\n        zero. All input parameters are continuous. The search domain for\n        all x's is the interval [-5, 10].\n        \"\"\"\n        x1 = config[\"x0\"]\n        x2 = config[\"x1\"]\n\n        cost = 100.0 * (x2 - x1**2.0) ** 2.0 + (1 - x1) ** 2.0\n        return cost\n\n\nif __name__ == \"__main__\":\n    model = Rosenbrock2D()\n\n    # Scenario object specifying the optimization \"environment\"\n    scenario = Scenario(model.configspace, name=\"synthetic_function\", n_trials=300)\n\n    # Now we use SMAC to find the best hyperparameters\n    smac = BlackBoxFacade(\n        scenario,\n        model.train,  # We pass the target function here\n        overwrite=True,  # Overrides any previous results that are found that are inconsistent with the meta-data.\n    )\n\n    incumbent = smac.optimize()\n\n    # Get cost of default configuration\n    default_cost = smac.validate(model.configspace.get_default_configuration())\n    print(f\"Default cost: {default_cost}\")\n\n    # Let's calculate the cost of the incumbent\n    incumbent_cost = smac.validate(incumbent)\n    print(f\"Default cost: {incumbent_cost}\")"
      ]
    }
  ],
  "metadata": {
    "kernelspec": {
      "display_name": "Python 3",
      "language": "python",
      "name": "python3"
    },
    "language_info": {
      "codemirror_mode": {
        "name": "ipython",
        "version": 3
      },
      "file_extension": ".py",
      "mimetype": "text/x-python",
      "name": "python",
      "nbconvert_exporter": "python",
      "pygments_lexer": "ipython3",
      "version": "3.10.8"
    }
  },
  "nbformat": 4,
  "nbformat_minor": 0
}