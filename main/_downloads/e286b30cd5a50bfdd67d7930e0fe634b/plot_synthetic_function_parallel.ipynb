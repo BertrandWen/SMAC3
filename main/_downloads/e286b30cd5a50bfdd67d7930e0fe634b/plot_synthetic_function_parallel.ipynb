{
  "cells": [
    {
      "cell_type": "code",
      "execution_count": null,
      "metadata": {
        "collapsed": false
      },
      "outputs": [],
      "source": [
        "%matplotlib inline"
      ]
    },
    {
      "cell_type": "markdown",
      "metadata": {},
      "source": [
        "\n# Synthetic Function with few Hyperparameters\n\nAn example of applying SMAC to optimize a synthetic function (2d rosenbrock function).\n\nWe use the pSMAC [1]_ facade to demonstrate the parallelization of SMAC.\nOther than that, we use a :term:`Gaussian Process<GP>` to optimize our black-box\nfunction.\n\n\n.. [1] Ramage, S. E. A. (2015). Advances in meta-algorithmic software libraries for\n    distributed automated algorithm configuration (T). University of British\n    Columbia. Retrieved from\n    https://open.library.ubc.ca/collections/ubctheses/24/items/1.0167184.\n"
      ]
    },
    {
      "cell_type": "code",
      "execution_count": null,
      "metadata": {
        "collapsed": false
      },
      "outputs": [],
      "source": [
        "import importlib\n\nimport logging\n\nlogging.basicConfig(level=logging.INFO)\n\nimport numpy as np\nfrom ConfigSpace.hyperparameters import UniformFloatHyperparameter\n\n# Import ConfigSpace and different types of parameters\nfrom smac.configspace import ConfigurationSpace\nfrom smac.facade.psmac_facade import PSMAC\nfrom smac.facade.smac_bb_facade import SMAC4BB\nimport smac\n\nimportlib.reload(smac.facade.psmac_facade)\nfrom smac.facade.psmac_facade import PSMAC\n\nfrom smac.optimizer.acquisition import EI\n\n# Import SMAC-utilities\nfrom smac.scenario.scenario import Scenario\n\n__copyright__ = \"Copyright 2021, AutoML.org Freiburg-Hannover\"\n__license__ = \"3-clause BSD\"\n\n\ndef rosenbrock_2d(x):\n    \"\"\"The 2 dimensional Rosenbrock function as a toy model\n    The Rosenbrock function is well know in the optimization community and\n    often serves as a toy problem. It can be defined for arbitrary\n    dimensions. The minimium is always at x_i = 1 with a function value of\n    zero. All input parameters are continuous. The search domain for\n    all x's is the interval [-5, 10].\n    \"\"\"\n\n    x1 = x[\"x0\"]\n    x2 = x[\"x1\"]\n\n    val = 100.0 * (x2 - x1**2.0) ** 2.0 + (1 - x1) ** 2.0\n    return val\n\n\nif __name__ == \"__main__\":\n    # Build Configuration Space which defines all parameters and their ranges\n    cs = ConfigurationSpace()\n    x0 = UniformFloatHyperparameter(\"x0\", -5, 10, default_value=-3)\n    x1 = UniformFloatHyperparameter(\"x1\", -5, 10, default_value=-4)\n    cs.add_hyperparameters([x0, x1])\n\n    # Scenario object\n    scenario = Scenario(\n        {\n            \"run_obj\": \"quality\",  # we optimize quality (alternatively runtime)\n            \"runcount-limit\": 20,  # max. number of function evaluations PER WORKER\n            \"cs\": cs,  # configuration space\n            \"deterministic\": True,\n        }\n    )\n\n    # Use 'gp' or 'gp_mcmc' here\n    model_type = \"gp\"\n\n    # Example call of the function\n    # It returns: Status, Cost, Runtime, Additional Infos\n    def_value = rosenbrock_2d(cs.get_default_configuration())\n    print(\"Default Value: %.2f\" % def_value)\n\n    # Optimize, using a SMAC-object\n    print(\"Optimizing! Depending on your machine, this might take a few minutes.\")\n    smac = PSMAC(\n        scenario=scenario,\n        facade_class=SMAC4BB,\n        model_type=model_type,\n        rng=np.random.RandomState(42),\n        acquisition_function=EI,  # or others like PI, LCB as acquisition functions\n        tae_runner=rosenbrock_2d,\n        n_workers=2,  # 2 parallel workers\n    )\n\n    incumbent = smac.optimize()\n    # Get trajectory of optimization (incumbent over time)\n    trajectory_json = smac.get_trajectory()  # trajectory in json format\n\n    # Plot trajectory: cost of incumbent against number of evaluations\n    # import matplotlib.pyplot as plt\n    # X = [t[\"evaluations\"] for t in trajectory_json]\n    # Y = [t[\"cost\"] for t in trajectory_json]\n    # plt.plot(X, Y)\n    # plt.yscale(\"log\")\n    # plt.xlabel(\"Number of Evaluations\")\n    # plt.ylabel(\"Cost of Incumbent\")\n    # plt.show()"
      ]
    }
  ],
  "metadata": {
    "kernelspec": {
      "display_name": "Python 3",
      "language": "python",
      "name": "python3"
    },
    "language_info": {
      "codemirror_mode": {
        "name": "ipython",
        "version": 3
      },
      "file_extension": ".py",
      "mimetype": "text/x-python",
      "name": "python",
      "nbconvert_exporter": "python",
      "pygments_lexer": "ipython3",
      "version": "3.9.13"
    }
  },
  "nbformat": 4,
  "nbformat_minor": 0
}